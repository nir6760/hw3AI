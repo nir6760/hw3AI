{
  "cells": [
    {
      "cell_type": "markdown",
      "metadata": {
        "id": "view-in-github",
        "colab_type": "text"
      },
      "source": [
        "<a href=\"https://colab.research.google.com/github/nir6760/hw3AI/blob/master/overparameterized_hw1.ipynb\" target=\"_parent\"><img src=\"https://colab.research.google.com/assets/colab-badge.svg\" alt=\"Open In Colab\"/></a>"
      ]
    },
    {
      "cell_type": "markdown",
      "metadata": {
        "id": "LS5_Cj9WIUyZ"
      },
      "source": [
        "# Foundation of Overparameterized Machine Learning - HW 1 and 2\n",
        "## Question 5\n",
        "### Nir Mualem, ID 205467780"
      ]
    },
    {
      "cell_type": "code",
      "execution_count": null,
      "metadata": {
        "id": "1OYFcxDqJTZx"
      },
      "outputs": [],
      "source": [
        "# Import necessary libraries and functions\n",
        "import numpy as np\n",
        "import seaborn as sns\n",
        "import matplotlib.pyplot as plt\n",
        "from scipy.fft import dct\n",
        "import time"
      ]
    },
    {
      "cell_type": "code",
      "execution_count": null,
      "metadata": {
        "id": "kPCpy2uF-oSS"
      },
      "outputs": [],
      "source": [
        "# for saving check points\n",
        "# Mount driver to authenticate yourself to gdrive\n",
        "#from google.colab import drive\n",
        "#drive.mount('/content/gdrive')\n",
        "import pandas as pd\n",
        "from google.colab import files\n",
        "#---\n",
        "\n",
        "def save_dataset_to_csv(set_name, arr_x, arr_y):\n",
        "  if arr_x.ndim == 3:\n",
        "    # reshaping the array from 3D to 2D for saving\n",
        "    arr_x = arr_x.reshape(arr_x.shape[0], -1)\n",
        "  # save to csv file\n",
        "  np.savetxt(f'X_{set_name}.csv', arr_x, delimiter=',')\n",
        "  np.savetxt(f'Y_{set_name}.csv', arr_y, delimiter=',')\n",
        "\n",
        "def upload_dataset_from_csv(set_name, n=None):\n",
        "  # upload from csv file\n",
        "  X = pd.read_csv(f'/content/X_{set_name}.csv', sep=',', header=None).to_numpy()\n",
        "  if n is not None:\n",
        "    # reshaping the array from 2D to 3D\n",
        "    X = X.reshape(X.shape[0], n, X.shape[1] // n)\n",
        "  Y = pd.read_csv(f'/content/Y_{set_name}.csv', sep=',', header=None).to_numpy()\n",
        "  return X, Y\n",
        "\n",
        "def print_time(display_str, start, end):\n",
        "  running_time_sec = round(end - start,3)\n",
        "  running_time_min = round(running_time_sec/60,3)\n",
        "  print(f'{display_str} - runing time: {running_time_sec} sec ~ {running_time_min} min')\n",
        "\n",
        "# function for saving figures\n",
        "def save_and_download_fig(title):\n",
        "  plt.savefig(f\"{title}.png\", dpi=500)\n",
        "  files.download(f\"{title}.png\")"
      ]
    },
    {
      "cell_type": "code",
      "execution_count": null,
      "metadata": {
        "id": "xVe4Z8phJwHJ"
      },
      "outputs": [],
      "source": [
        "d = 128\n",
        "\n",
        "C = dct(np.eye(d), axis=0, norm='ortho')\n",
        "\n",
        "lambda_x = np.zeros((d, d), float) # Create matrix with only 0\n",
        "lambda_x_diag = np.array([3*np.power(0.9,j-1) for j in range(1, d+1)]).reshape(d,1)\n",
        "np. fill_diagonal(lambda_x, lambda_x_diag) # fill diagonal with 1.\n",
        "\n",
        "\n",
        "mean_x = np.zeros((d,1)).reshape(d)\n",
        "\n",
        "cov_x = np.matmul(np.matmul(C,lambda_x) ,np.transpose(C))\n",
        "\n",
        "mu_xi = 0\n",
        "sigma_squared_noise = 0.25\n",
        "\n",
        "beta_tilde = np.array([0.2178] * 20 + [0.0218] * 108).reshape(d, 1)\n",
        "beta = np.matmul(C, beta_tilde)\n"
      ]
    },
    {
      "cell_type": "markdown",
      "metadata": {
        "id": "x78eXNhmH7rT"
      },
      "source": [
        "#### **(a)** Train dataset creation"
      ]
    },
    {
      "cell_type": "code",
      "execution_count": null,
      "metadata": {
        "colab": {
          "base_uri": "https://localhost:8080/"
        },
        "id": "MBcj1-IFPvOW",
        "outputId": "2b5ac3d1-dcda-4ab3-d0fa-8404a75391ad"
      },
      "outputs": [
        {
          "output_type": "execute_result",
          "data": {
            "text/plain": [
              "32"
            ]
          },
          "metadata": {},
          "execution_count": 136
        }
      ],
      "source": [
        "X = np.random.multivariate_normal(mean_x, cov_x, size=(2,32), check_valid='warn')# nxd\n",
        "np.linalg.matrix_rank(X[0])"
      ]
    },
    {
      "cell_type": "code",
      "execution_count": null,
      "metadata": {
        "id": "OKAPxcoZ6029"
      },
      "outputs": [],
      "source": [
        "n = 32"
      ]
    },
    {
      "cell_type": "code",
      "execution_count": null,
      "metadata": {
        "id": "M-X2p4l15YUh"
      },
      "outputs": [],
      "source": [
        "def crate_dataset(set_name, n, X, Y, d, K=1):\n",
        "  start_create_dataset = time.time()\n",
        "  rank_required = min(n, d)\n",
        "  rank_of_X = 0\n",
        "  while(rank_of_X < rank_required):\n",
        "    rank_of_X = 0 if K==1 else rank_required # only for section b we will repeat for getting  iid xi's\n",
        "    Epsilon = np.random.normal(mu_xi, sigma_squared_noise, size=(K,n)) # nx1\n",
        "    X = np.random.multivariate_normal(mean_x, cov_x, size=(K,n), check_valid='warn')# nxd\n",
        "    if K==1:\n",
        "      rank_of_X = np.linalg.matrix_rank(X[0])\n",
        "      if (rank_of_X < rank_required):\n",
        "        continue\n",
        "    for k in range(K):\n",
        "      for i in range(n):\n",
        "          #xi = xi.reshape(d,1)\n",
        "          yki = np.matmul(np.transpose(X[k,i,:]), beta) + Epsilon[k,i]\n",
        "          yki = float(yki.ravel())\n",
        "          if K==1:\n",
        "            Y[i] = yki\n",
        "          else:\n",
        "            Y[k,i] = yki\n",
        "  end_time_create_dataset = time.time()\n",
        "  print_time('Dataset creation', start_create_dataset, end_time_create_dataset)\n",
        "  if K==1:\n",
        "     print(f'X ({set_name}) rank = {rank_of_X}')\n",
        "     X = X.squeeze()\n",
        "     Y = Y.squeeze()\n",
        "  return X, Y"
      ]
    },
    {
      "cell_type": "markdown",
      "metadata": {
        "id": "RMzDVkIm5AT0"
      },
      "source": [
        "**Rank of the matrix X (train) should be n (train) < d**"
      ]
    },
    {
      "cell_type": "code",
      "execution_count": null,
      "metadata": {
        "colab": {
          "base_uri": "https://localhost:8080/"
        },
        "id": "QTDs-5IcI6vw",
        "outputId": "e74462a4-e73f-489f-c411-359883ec375c"
      },
      "outputs": [
        {
          "output_type": "stream",
          "name": "stdout",
          "text": [
            "Dataset creation - runing time: 0.034 sec ~ 0.001 min\n",
            "X (train) rank = 32\n"
          ]
        }
      ],
      "source": [
        "X_train = np.zeros((n,d))\n",
        "Y_train = np.zeros((n,))\n",
        "\n",
        "X_train, Y_train = crate_dataset('train', n, X_train, Y_train, d)\n",
        "#save_dataset_to_csv('train', X_train, Y_train) # save to csv file\n",
        "#X_train, Y_train = upload_dataset_from_csv('train') # upload from csv file"
      ]
    },
    {
      "cell_type": "markdown",
      "metadata": {
        "id": "TVB9KqJG6lA8"
      },
      "source": [
        "#### **(b)** Test dataset creation\n",
        "\n",
        "\n"
      ]
    },
    {
      "cell_type": "code",
      "execution_count": null,
      "metadata": {
        "id": "bihIFern7mAr"
      },
      "outputs": [],
      "source": [
        "n_test = 1000"
      ]
    },
    {
      "cell_type": "markdown",
      "metadata": {
        "id": "-dnNTs_X78iJ"
      },
      "source": [
        "**Rank of the matrix X (test)**"
      ]
    },
    {
      "cell_type": "code",
      "execution_count": null,
      "metadata": {
        "colab": {
          "base_uri": "https://localhost:8080/"
        },
        "id": "xIDf-KQV7WRk",
        "outputId": "9d7a896f-4908-4dc1-98bc-132bff7f9ba5"
      },
      "outputs": [
        {
          "output_type": "stream",
          "name": "stdout",
          "text": [
            "Dataset creation - runing time: 0.04 sec ~ 0.001 min\n",
            "X (test) rank = 128\n"
          ]
        }
      ],
      "source": [
        "X_test = np.zeros((n_test,d))\n",
        "Y_test = np.zeros((n_test,))\n",
        "\n",
        "X_test, Y_test = crate_dataset('test', n_test, X_test, Y_test, d)\n",
        "\n",
        "#save_dataset_to_csv('test', X_test, Y_test) # save to csv file\n",
        "#X_test, Y_test = upload_dataset_from_csv('test') # upload from csv file"
      ]
    },
    {
      "cell_type": "markdown",
      "metadata": {
        "id": "5d0qujprLonh"
      },
      "source": [
        "#### **(c)** empirical test error, single data set"
      ]
    },
    {
      "cell_type": "code",
      "execution_count": null,
      "metadata": {
        "id": "-qZXj-jbbMsh"
      },
      "outputs": [],
      "source": [
        "class FHatP:\n",
        "  # Min L2-Norm\n",
        "  def __init__(self, p, X, Y) -> None:\n",
        "    self.p_index = p-1\n",
        "    self.X = X\n",
        "    self.Y = Y\n",
        "\n",
        "\n",
        "    self.U_p = C[:,0:p]\n",
        "\n",
        "    self.Phi = np.matmul(self.X, self.U_p)\n",
        "    Phi_t_Phi = np.matmul(np.transpose(self.Phi), self.Phi)\n",
        "    rank_of_Phi_t_Phi = np.linalg.matrix_rank(Phi_t_Phi)\n",
        "    if rank_of_Phi_t_Phi < p:\n",
        "      # no inverse\n",
        "      self.alpha_min = np.matmul(np.linalg.pinv(self.Phi), Y)\n",
        "    else:\n",
        "      self.alpha_min = np.matmul( np.matmul(np.linalg.inv(Phi_t_Phi) ,np.transpose(self.Phi)), Y)\n",
        "\n",
        "  def calc_y_hat(self, x):\n",
        "\n",
        "    y_hat = np.matmul(np.matmul(np.transpose(self.alpha_min), np.transpose(self.U_p)), x)\n",
        "    return y_hat\n",
        "\n",
        "  def __call__(self, x):\n",
        "    return self.calc_y_hat(x)\n",
        "\n",
        "  # calculate the empirical test error\n",
        "  def calc_test_error(self, X_test, Y_test, n_test):\n",
        "    return sum(np.power(self.calc_y_hat(X_test[i]) - Y_test[i],2) for i in range(n_test)) / n_test\n",
        "\n",
        "class FNullEstimator:\n",
        "  # Null Estimator class\n",
        "  def __init__(self, p, Y) -> None:\n",
        "    self.p_index = p-1\n",
        "    self.Y = Y\n",
        "\n",
        "  def calc_y_hat(self, x):\n",
        "    y_hat = 0\n",
        "    return y_hat\n",
        "\n",
        "  def __call__(self, x):\n",
        "    return self.calc_y_hat(x)\n",
        "\n",
        "  # calculate the empirical test error\n",
        "  def calc_test_error(self, Y_test, n_test):\n",
        "    return sum(np.power(0 - Y_test[i],2) for i in range(n_test)) / n_test\n"
      ]
    },
    {
      "cell_type": "code",
      "source": [
        "from scipy.optimize import linprog\n",
        "class FHatPNorm1:\n",
        "  # Min L1-Norm\n",
        "  def __init__(self, p, X, Y) -> None:\n",
        "    self.p_index = p-1\n",
        "    self.X = X\n",
        "    self.Y = Y\n",
        "    self.l1_norm_flag = False\n",
        "\n",
        "    self.U_p = C[:,0:p]\n",
        "\n",
        "    self.Phi = np.matmul(self.X, self.U_p)\n",
        "\n",
        "\n",
        "    Phi_t_Phi = np.matmul(np.transpose(self.Phi), self.Phi)\n",
        "    rank_of_Phi_t_Phi = np.linalg.matrix_rank(Phi_t_Phi)\n",
        "    if rank_of_Phi_t_Phi < p:\n",
        "      # no inverse, linear programing\n",
        "      # numRows = size(mA, 1);\n",
        "      # numCols = size(mA, 2);\n",
        "      # % vU = max(vX, 0);\n",
        "      # % vV = max(-vX, 0);\n",
        "      # % vX = vU - vX;\n",
        "      # % vUV = [vU; vV];\n",
        "      # vF = ones([2 * numCols, 1]);\n",
        "      # mAeq = [mA, -mA];\n",
        "      # vBeq = vB;\n",
        "      # vLowerBound = zeros([2 * numCols, 1]);\n",
        "      # vUpperBound = inf([2 * numCols, 1]);\n",
        "      # sSolverOptions = optimoptions('linprog', 'Display', 'off');\n",
        "      # vUV = linprog(vF, [], [], mAeq, vBeq, vLowerBound, vUpperBound, sSolverOptions);\n",
        "      # vX = vUV(1:numCols) - vUV(numCols + 1:end);\n",
        "      num_rows = self.Phi.shape[0]\n",
        "      num_cols = self.Phi.shape[1]\n",
        "      v_f = np.ones(2 * num_cols,)\n",
        "      mAeq = np.concatenate((self.Phi, -1 * self.Phi), axis=1)\n",
        "      vBeq = self.Y\n",
        "      bound = (0, np.inf)\n",
        "      bounds_lst = [bound]*2*num_cols\n",
        "      vUV = linprog(c=v_f, A_eq=mAeq, b_eq=vBeq,bounds=bounds_lst,method=\"revised simplex\")\n",
        "      if vUV.status != 0 or not vUV.success:\n",
        "        print(f'Error occured in linprog, status is {vUV.status}, success is {vUV.success}')\n",
        "      vX = vUV.x[0:num_cols] - vUV.x[num_cols :]\n",
        "      vX =vX .squeeze()\n",
        "      self.alpha_min = vX\n",
        "    else:\n",
        "      # closed solution\n",
        "      self.alpha_min = np.matmul( np.matmul(np.linalg.inv(Phi_t_Phi) ,np.transpose(self.Phi)), Y)\n",
        "\n",
        "  def calc_y_hat(self, x):\n",
        "    y_hat = np.matmul(np.matmul(np.transpose(self.alpha_min), np.transpose(self.U_p)), x)\n",
        "    return y_hat\n",
        "\n",
        "  def __call__(self, x):\n",
        "    return self.calc_y_hat(x)\n",
        "\n",
        "  # calculate the empirical test error\n",
        "  def calc_test_error(self, X_test, Y_test, n_test):\n",
        "      return sum(np.power(self.calc_y_hat(X_test[i]) - Y_test[i],2) for i in range(n_test)) / n_test"
      ],
      "metadata": {
        "id": "zEMpCs7g_dEN"
      },
      "execution_count": null,
      "outputs": []
    },
    {
      "cell_type": "code",
      "source": [
        "p_vals = range(1, d+1)\n",
        "f_hat_error_valsNorm1 = [FHatPNorm1(p, X_train, Y_train).calc_test_error(X_test, Y_test, n_test) for p in p_vals]"
      ],
      "metadata": {
        "id": "KwQ9kguWvO6R"
      },
      "execution_count": null,
      "outputs": []
    },
    {
      "cell_type": "code",
      "execution_count": null,
      "metadata": {
        "id": "aKUsAJhK0xp-"
      },
      "outputs": [],
      "source": [
        "p_vals = range(1, d+1)\n",
        "f_hat_error_vals = [FHatP(p, X_train, Y_train).calc_test_error(X_test, Y_test, n_test) for p in p_vals]\n",
        "f_hat_error_valsNullEstimator = [FNullEstimator(p, Y_train).calc_test_error(Y_test, n_test) for p in p_vals]"
      ]
    },
    {
      "cell_type": "code",
      "execution_count": null,
      "metadata": {
        "colab": {
          "base_uri": "https://localhost:8080/",
          "height": 295
        },
        "id": "ly_W9RfQlyh8",
        "outputId": "e3a112e6-8628-4543-d2c1-a270374a9aa9"
      },
      "outputs": [
        {
          "output_type": "display_data",
          "data": {
            "text/plain": [
              "<IPython.core.display.Javascript object>"
            ],
            "application/javascript": [
              "\n",
              "    async function download(id, filename, size) {\n",
              "      if (!google.colab.kernel.accessAllowed) {\n",
              "        return;\n",
              "      }\n",
              "      const div = document.createElement('div');\n",
              "      const label = document.createElement('label');\n",
              "      label.textContent = `Downloading \"${filename}\": `;\n",
              "      div.appendChild(label);\n",
              "      const progress = document.createElement('progress');\n",
              "      progress.max = size;\n",
              "      div.appendChild(progress);\n",
              "      document.body.appendChild(div);\n",
              "\n",
              "      const buffers = [];\n",
              "      let downloaded = 0;\n",
              "\n",
              "      const channel = await google.colab.kernel.comms.open(id);\n",
              "      // Send a message to notify the kernel that we're ready.\n",
              "      channel.send({})\n",
              "\n",
              "      for await (const message of channel.messages) {\n",
              "        // Send a message to notify the kernel that we're ready.\n",
              "        channel.send({})\n",
              "        if (message.buffers) {\n",
              "          for (const buffer of message.buffers) {\n",
              "            buffers.push(buffer);\n",
              "            downloaded += buffer.byteLength;\n",
              "            progress.value = downloaded;\n",
              "          }\n",
              "        }\n",
              "      }\n",
              "      const blob = new Blob(buffers, {type: 'application/binary'});\n",
              "      const a = document.createElement('a');\n",
              "      a.href = window.URL.createObjectURL(blob);\n",
              "      a.download = filename;\n",
              "      div.appendChild(a);\n",
              "      a.click();\n",
              "      div.remove();\n",
              "    }\n",
              "  "
            ]
          },
          "metadata": {}
        },
        {
          "output_type": "display_data",
          "data": {
            "text/plain": [
              "<IPython.core.display.Javascript object>"
            ],
            "application/javascript": [
              "download(\"download_ed94dd06-53b8-4d7e-84a0-90ede3d72ee6\", \"hw2q5_1.png\", 217286)"
            ]
          },
          "metadata": {}
        },
        {
          "output_type": "display_data",
          "data": {
            "text/plain": [
              "<Figure size 432x288 with 1 Axes>"
            ],
            "image/png": "[encoded data removed]"
          },
          "metadata": {
            "needs_background": "light"
          }
        }
      ],
      "source": [
        "# plot sea born\n",
        "ax1 = sns.lineplot(x=p_vals, y=f_hat_error_valsNorm1, color=\"blue\")\n",
        "ax2 = sns.lineplot(x=p_vals, y=f_hat_error_vals, linestyle=\"dashed\", color=\"black\")\n",
        "# giving labels to x-axis and y-axis\n",
        "ax1.set(xlabel ='Number of parameters (p)', ylabel ='Test Error')\n",
        "ax1.set(ylim=(0, 2.5))\n",
        "ax1.set(xlim=(0, d))\n",
        "ax1.axvline(n-2 , color='darkgray', linestyle=\"dashed\")\n",
        "\n",
        "ax3 = sns.lineplot(x=p_vals, y=f_hat_error_valsNullEstimator,linestyle=(0, (1, 1)), color=\"black\")\n",
        "plt.legend(labels=[ 'Test Error: Min l1-norm', 'Test Error: Min l2-norm' , 'n value', 'Test Error: Null Estimator'])\n",
        "# giving title to the plot\n",
        "plt.title('Empirical test error on a single data set');\n",
        "\n",
        "# function to show plot\n",
        "#save_and_download_fig(\"hw2q5_1\")\n",
        "plt.show()"
      ]
    },
    {
      "cell_type": "markdown",
      "metadata": {
        "id": "5fkS0TiJ8cTN"
      },
      "source": [
        "#### **(d)** empirical test error, averaging on multiple data set"
      ]
    },
    {
      "cell_type": "code",
      "execution_count": null,
      "metadata": {
        "id": "RJCdOzqND1OA"
      },
      "outputs": [],
      "source": [
        "K = 700"
      ]
    },
    {
      "cell_type": "code",
      "execution_count": null,
      "metadata": {
        "colab": {
          "base_uri": "https://localhost:8080/"
        },
        "id": "WeP0oSzI8hih",
        "outputId": "5202fe91-c6ef-4ddf-aea3-e05752e4a43c"
      },
      "outputs": [
        {
          "output_type": "stream",
          "name": "stdout",
          "text": [
            "Dataset creation - runing time: 0.465 sec ~ 0.008 min\n"
          ]
        }
      ],
      "source": [
        "X_trains = np.zeros((K, n,d))\n",
        "Y_trains = np.zeros((K,n))\n",
        "\n",
        "X_trains, Y_trains = crate_dataset('trains', n, X_trains, Y_trains, d, K)\n",
        "#save_dataset_to_csv('trains', X_trains, Y_trains) # save to csv file\n",
        "#X_train, Y_train = upload_dataset_from_csv('trains') # upload from csv file"
      ]
    },
    {
      "cell_type": "code",
      "execution_count": null,
      "metadata": {
        "id": "_cHfK4BK_1eP"
      },
      "outputs": [],
      "source": [
        "# create all the functions f for every k,p\n",
        "def create_lattice_f(minL2_flag=True):\n",
        "  if minL2_flag:\n",
        "    fp = FHatP\n",
        "  else:\n",
        "    fp= FHatPNorm1\n",
        "  start_time_lattice = time.time()\n",
        "  lattice_f = np.empty( (K,d), dtype=object)\n",
        "  for k_iter in range(K):\n",
        "    lattice_f[k_iter, :] = [fp(p, X_trains[k_iter], Y_trains[k_iter]) for p in p_vals]\n",
        "    if k_iter % 10 == 0:\n",
        "      end_time_k_10 = time.time()\n",
        "      print_time(f'Status update : k = {k_iter}', start_time_lattice, end_time_k_10)\n",
        "  end_time_lattice = time.time()\n",
        "  print_time(f'Lattice minl{2 if minL2_flag else 1}', start_time_lattice, end_time_lattice)\n",
        "  return lattice_f\n",
        "\n",
        "# calculate the value for average function p (p 0-index)\n",
        "def f_average_p(lattice_f, p, x):\n",
        "  return sum(lattice_f[k_iter,p](x) for k_iter in range(K)) / K\n",
        "\n",
        "# calculate the empirical average train error per p (p 1-index)\n",
        "def calc_average_train_error(lattice_f, p):\n",
        "  return sum(lattice_f[k_iter,p-1].calc_test_error(X_trains[k_iter],  Y_trains[k_iter], n) for k_iter in range(K)) / K\n",
        "\n",
        "# calculate the empirical average null estimator error per p (p 1-index)\n",
        "def calc_average_null_estimator_error(p):\n",
        "  return sum(np.power(0 - Y_test[i_iter],2) for i_iter in range(n_test)) / n_test\n",
        "\n",
        "# calculate the empirical average test error per p (p 1-index)\n",
        "def calc_average_test_error(lattice_f, p, n_test):\n",
        "  return sum(lattice_f[k_iter,p-1].calc_test_error(X_test, Y_test, n_test) for k_iter in range(K)) / K\n",
        "\n",
        "# calculate the empirical squared bias per p (p 1-index)\n",
        "def calc_squared_bias(lattice_f, p, n_test):\n",
        "  return float(sum(np.power(f_average_p(lattice_f, p-1, X_test[i]) - np.matmul(np.transpose(beta),X_test[i]),2) for i in range(n_test)) / n_test)\n",
        "\n",
        "# calculate the empirical variance per p (p 1-index)\n",
        "def calc_variance(lattice_f, p, n_test):\n",
        "  return sum(sum(np.power(lattice_f[k_iter, p-1](X_test[i]) - f_average_p(lattice_f, p-1, X_test[i]),2) for i in range(n_test)) for k_iter in range(K)) / (K*n_test)\n",
        "\n",
        "# calculate all requirments in section d per p (p 1-index)\n",
        "def calc_error_bias_variance(lattice_f, p, n_test):\n",
        "  averaged_test_err = 0\n",
        "  averaged_null_test_err = 0\n",
        "  bias_square = 0\n",
        "  variance = 0\n",
        "  cache_f_avep_x = [None] * n_test\n",
        "  for k_iter in range(K):\n",
        "    for i in range(n_test):\n",
        "      f_pk_x = lattice_f[k_iter, p-1](X_test[i])\n",
        "      if cache_f_avep_x[i] is None:\n",
        "        f_avep_x = f_average_p(lattice_f, p-1, X_test[i])\n",
        "        cache_f_avep_x[i] = f_avep_x\n",
        "      else:\n",
        "        f_avep_x = cache_f_avep_x[i]\n",
        "\n",
        "      averaged_test_err = averaged_test_err + np.power((f_pk_x - Y_test[i]),2)\n",
        "      averaged_null_test_err = averaged_null_test_err + np.power((0 - Y_test[i]),2)\n",
        "      if k_iter == 0:\n",
        "        # only one iteration\n",
        "        betat_x = np.matmul(np.transpose(beta),X_test[i])\n",
        "        bias_square = bias_square + float(np.power((f_avep_x - betat_x),2))\n",
        "      variance = variance + np.power((f_pk_x - f_avep_x),2)\n",
        "\n",
        "  averaged_test_err = averaged_test_err / (K*n_test)\n",
        "  averaged_null_test_err = averaged_null_test_err / (K*n_test)\n",
        "  bias_square = bias_square / (n_test)\n",
        "  variance = variance / (K*n_test)\n",
        "  return averaged_test_err, bias_square , variance, averaged_null_test_err\n"
      ]
    },
    {
      "cell_type": "code",
      "execution_count": null,
      "metadata": {
        "colab": {
          "base_uri": "https://localhost:8080/"
        },
        "id": "8pPE9WBFABZ7",
        "outputId": "e0ae6a3e-46b7-48e7-d7dc-cb02588a457a"
      },
      "outputs": [
        {
          "output_type": "stream",
          "name": "stdout",
          "text": [
            "Lattice minl2 - runing time: 224.459 sec ~ 3.741 min\n"
          ]
        }
      ],
      "source": [
        "lattice_f = create_lattice_f() # 4 min for k=700"
      ]
    },
    {
      "cell_type": "code",
      "source": [
        "lattice_f_minl1 = create_lattice_f(minL2_flag=False)# 28 min for k=700"
      ],
      "metadata": {
        "colab": {
          "base_uri": "https://localhost:8080/"
        },
        "id": "opBa_0r6IBez",
        "outputId": "7c919862-54db-4cab-ecd5-b05b4a221d03"
      },
      "execution_count": null,
      "outputs": [
        {
          "output_type": "stream",
          "name": "stdout",
          "text": [
            "Lattice minl1 - runing time: 1710.293 sec ~ 28.505 min\n"
          ]
        }
      ]
    },
    {
      "cell_type": "markdown",
      "source": [
        "## HW2 - Question 5"
      ],
      "metadata": {
        "id": "9VMcFELXKLxM"
      }
    },
    {
      "cell_type": "code",
      "source": [
        "start_time_calculations = time.time()\n",
        "average_test_error_vals = []\n",
        "average_test_error_minl1_vals = []\n",
        "average_train_error_vals = []\n",
        "average_train_error_minl1_vals = []\n",
        "averaged_null_test_err_vals = []\n",
        "for p in p_vals:\n",
        "  averaged_test_err = calc_average_test_error(lattice_f, p, n_test)\n",
        "  average_test_error_vals.append(averaged_test_err)\n",
        "\n",
        "  averaged_test_minl1_err = calc_average_test_error(lattice_f_minl1, p, n_test)\n",
        "  average_test_error_minl1_vals.append(averaged_test_minl1_err)\n",
        "\n",
        "  average_train_error = calc_average_train_error(lattice_f, p)\n",
        "  average_train_error_vals.append(average_train_error)\n",
        "\n",
        "  average_train_error_minl1 = calc_average_train_error(lattice_f_minl1, p)\n",
        "  average_train_error_minl1_vals.append(average_train_error_minl1)\n",
        "\n",
        "  averaged_null_test_err = calc_average_null_estimator_error(p)\n",
        "  averaged_null_test_err_vals.append(averaged_null_test_err)\n",
        "  if p % 10 == 0:\n",
        "    end_time_p_10 = time.time()\n",
        "    print_time(f'Status update : p = {p}', start_time_calculations, end_time_p_10)\n",
        "end_time_calculations = time.time()\n",
        "print_time('Test errors calculations', start_time_calculations, end_time_calculations)"
      ],
      "metadata": {
        "colab": {
          "base_uri": "https://localhost:8080/"
        },
        "id": "FPOUGdkuKyyY",
        "outputId": "f225be24-1150-45dd-c534-01a9685586b7"
      },
      "execution_count": null,
      "outputs": [
        {
          "output_type": "stream",
          "name": "stdout",
          "text": [
            "Status update : p = 10 - runing time: 194.403 sec ~ 3.24 min\n",
            "Status update : p = 20 - runing time: 381.879 sec ~ 6.365 min\n",
            "Status update : p = 30 - runing time: 569.848 sec ~ 9.497 min\n",
            "Status update : p = 40 - runing time: 764.402 sec ~ 12.74 min\n",
            "Status update : p = 50 - runing time: 962.561 sec ~ 16.043 min\n",
            "Status update : p = 60 - runing time: 1160.635 sec ~ 19.344 min\n",
            "Status update : p = 70 - runing time: 1363.132 sec ~ 22.719 min\n",
            "Status update : p = 80 - runing time: 1718.715 sec ~ 28.645 min\n",
            "Status update : p = 90 - runing time: 2092.067 sec ~ 34.868 min\n",
            "Status update : p = 100 - runing time: 2468.426 sec ~ 41.14 min\n",
            "Status update : p = 110 - runing time: 2850.437 sec ~ 47.507 min\n",
            "Status update : p = 120 - runing time: 3240.323 sec ~ 54.005 min\n",
            "Test errors calculations - runing time: 3550.709 sec ~ 59.178 min\n"
          ]
        }
      ]
    },
    {
      "cell_type": "code",
      "source": [
        "# plot sea born\n",
        "my_dict = dict(x=p_vals, y1=average_test_error_vals, y2=average_test_error_minl1_vals, y3=average_train_error_vals, y4=average_train_error_minl1_vals, y5=averaged_null_test_err_vals)\n",
        "data = pd.DataFrame (my_dict)\n",
        "\n",
        "\n",
        "ax2= sns.lineplot(x='x', y='y2', data=data, color='blue')\n",
        "ax3 = sns.lineplot(x='x', y='y1', data=data,linestyle=\"dashed\", color=\"black\")\n",
        "ax2.axvline(n , color='darkgray', linestyle=\"dashed\")\n",
        "ax4 = sns.lineplot(x='x', y='y4', data=data, color='aqua')\n",
        "ax5 = sns.lineplot(x='x', y='y3', data=data, linestyle=\"dashed\", color='gray')\n",
        "ax6 = sns.lineplot(x='x', y='y5', data=data,linestyle=(0, (1, 1)), color=\"black\")\n",
        "plt.legend(labels=['Test Error: Min l1-norm' ,'Test Error: Min l2-norm', 'n Value','Train Error: Min l1-norm', 'Train Error: Min l2-norm' ,'NULL Estimate'])\n",
        "\n",
        "# giving labels to x-axis and y-axis\n",
        "ax2.set(xlabel ='Number of parameters (p)', ylabel ='Error')\n",
        "ax2.set(ylim=(0, 2.5))\n",
        "ax2.set(xlim=(0, d))\n",
        "# giving title to the plot\n",
        "plt.title('Experiment on multiple data sets')\n",
        "\n",
        "\n",
        "\n",
        "# function to show plot\n",
        "#save_and_download_fig(\"hw2q5_2\")\n",
        "plt.show()"
      ],
      "metadata": {
        "colab": {
          "base_uri": "https://localhost:8080/",
          "height": 295
        },
        "id": "3MIghMihMzOM",
        "outputId": "5085b025-f3ea-4fc3-f833-ec8d7dedc3ae"
      },
      "execution_count": null,
      "outputs": [
        {
          "output_type": "display_data",
          "data": {
            "text/plain": [
              "<IPython.core.display.Javascript object>"
            ],
            "application/javascript": [
              "\n",
              "    async function download(id, filename, size) {\n",
              "      if (!google.colab.kernel.accessAllowed) {\n",
              "        return;\n",
              "      }\n",
              "      const div = document.createElement('div');\n",
              "      const label = document.createElement('label');\n",
              "      label.textContent = `Downloading \"${filename}\": `;\n",
              "      div.appendChild(label);\n",
              "      const progress = document.createElement('progress');\n",
              "      progress.max = size;\n",
              "      div.appendChild(progress);\n",
              "      document.body.appendChild(div);\n",
              "\n",
              "      const buffers = [];\n",
              "      let downloaded = 0;\n",
              "\n",
              "      const channel = await google.colab.kernel.comms.open(id);\n",
              "      // Send a message to notify the kernel that we're ready.\n",
              "      channel.send({})\n",
              "\n",
              "      for await (const message of channel.messages) {\n",
              "        // Send a message to notify the kernel that we're ready.\n",
              "        channel.send({})\n",
              "        if (message.buffers) {\n",
              "          for (const buffer of message.buffers) {\n",
              "            buffers.push(buffer);\n",
              "            downloaded += buffer.byteLength;\n",
              "            progress.value = downloaded;\n",
              "          }\n",
              "        }\n",
              "      }\n",
              "      const blob = new Blob(buffers, {type: 'application/binary'});\n",
              "      const a = document.createElement('a');\n",
              "      a.href = window.URL.createObjectURL(blob);\n",
              "      a.download = filename;\n",
              "      div.appendChild(a);\n",
              "      a.click();\n",
              "      div.remove();\n",
              "    }\n",
              "  "
            ]
          },
          "metadata": {}
        },
        {
          "output_type": "display_data",
          "data": {
            "text/plain": [
              "<IPython.core.display.Javascript object>"
            ],
            "application/javascript": [
              "download(\"download_5eac9d32-dab7-4efd-8fe0-b8911bcd66b5\", \"hw2q5_2.png\", 244066)"
            ]
          },
          "metadata": {}
        },
        {
          "output_type": "display_data",
          "data": {
            "text/plain": [
              "<Figure size 432x288 with 1 Axes>"
            ],
            "image/png": "[encoded data removed]"
          },
          "metadata": {
            "needs_background": "light"
          }
        }
      ]
    },
    {
      "cell_type": "markdown",
      "source": [
        "## HW1 1 - Question 5"
      ],
      "metadata": {
        "id": "V2emRLZzKmES"
      }
    },
    {
      "cell_type": "code",
      "execution_count": null,
      "metadata": {
        "colab": {
          "base_uri": "https://localhost:8080/"
        },
        "id": "RHnZI6SCm7xp",
        "outputId": "01dc5a14-9b27-4594-9811-5b81f4efb2f3"
      },
      "outputs": [
        {
          "output_type": "stream",
          "name": "stdout",
          "text": [
            "Status update : p = 10 - runing time: 206.399 sec ~ 3.44 min\n",
            "Status update : p = 20 - runing time: 419.098 sec ~ 6.985 min\n",
            "Status update : p = 30 - runing time: 639.492 sec ~ 10.658 min\n",
            "Status update : p = 40 - runing time: 864.735 sec ~ 14.412 min\n",
            "Status update : p = 50 - runing time: 1085.276 sec ~ 18.088 min\n",
            "Status update : p = 60 - runing time: 1313.526 sec ~ 21.892 min\n",
            "Status update : p = 70 - runing time: 1545.525 sec ~ 25.759 min\n",
            "Status update : p = 80 - runing time: 1957.205 sec ~ 32.62 min\n",
            "Status update : p = 90 - runing time: 2391.42 sec ~ 39.857 min\n",
            "Status update : p = 100 - runing time: 2823.875 sec ~ 47.065 min\n",
            "Status update : p = 110 - runing time: 3293.368 sec ~ 54.889 min\n",
            "Status update : p = 120 - runing time: 3740.954 sec ~ 62.349 min\n",
            "Section d calculations - runing time: 4098.008 sec ~ 68.3 min\n"
          ]
        }
      ],
      "source": [
        "# start_time_calculations = time.time()\n",
        "# average_test_error_vals = []\n",
        "# squared_bias_vals = []\n",
        "# variance_vals = []\n",
        "# averaged_null_test_err_vals = []\n",
        "# for p in p_vals:\n",
        "#   averaged_test_err, squared_bias, variance, averaged_null_test_err = calc_error_bias_variance(lattice_f, p, n_test)\n",
        "#   average_test_error_vals.append(averaged_test_err)\n",
        "#   squared_bias_vals.append(squared_bias)\n",
        "#   variance_vals.append(variance)\n",
        "#   averaged_null_test_err_vals.append(averaged_null_test_err)\n",
        "#   if p % 10 == 0:\n",
        "#     end_time_p_10 = time.time()\n",
        "#     print_time(f'Status update : p = {p}', start_time_calculations, end_time_p_10)\n",
        "# end_time_calculations = time.time()\n",
        "# print_time('Section d calculations', start_time_calculations, end_time_calculations)"
      ]
    },
    {
      "cell_type": "code",
      "execution_count": null,
      "metadata": {
        "colab": {
          "base_uri": "https://localhost:8080/",
          "height": 295
        },
        "id": "1VmLRztwFDB4",
        "outputId": "be21bb6f-1c2b-4226-8ddd-7c398b15e813"
      },
      "outputs": [
        {
          "output_type": "display_data",
          "data": {
            "text/plain": [
              "<Figure size 432x288 with 1 Axes>"
            ],
            "image/png": "[encoded data removed]"
          },
          "metadata": {
            "needs_background": "light"
          }
        }
      ],
      "source": [
        "# # plot sea born\n",
        "# my_dict = dict(x=p_vals, y1=average_test_error_vals, y2=squared_bias_vals, y3=variance_vals, y4=average_train_error_vals, y5=averaged_null_test_err_vals)\n",
        "# data = pd.DataFrame (my_dict)\n",
        "\n",
        "# ax2= sns.lineplot(x='x', y='y1', data=data, color='blue')\n",
        "# ax3 = sns.lineplot(x='x', y='y2', data=data, color='red', linestyle=\"dashed\")\n",
        "# ax4 = sns.lineplot(x='x', y='y3', data=data, color='fuchsia', linestyle=\"dashed\")\n",
        "# ax2.axvline(n , color='darkgray', linestyle=\"dashed\")\n",
        "# ax5 = sns.lineplot(x='x', y='y4', data=data, color='black')\n",
        "# ax6 = sns.lineplot(x='x', y='y5', data=data, linestyle=\"dashed\", color='gray')\n",
        "# plt.legend(labels=['Test Error', 'Bias Squared', 'Variance', 'n Value', 'Train Error', 'NULL Estimate'])\n",
        "\n",
        "# # giving labels to x-axis and y-axis\n",
        "# ax2.set(xlabel ='Number of parameters (p)', ylabel ='Error')\n",
        "# ax2.set(ylim=(0, 2.5))\n",
        "# ax2.set(xlim=(0, d))\n",
        "# # giving title to the plot\n",
        "# plt.title('Experiment on multiple data sets')\n",
        "\n",
        "\n",
        "\n",
        "# # function to show plot\n",
        "# #save_and_download_fig(\"section_d_limited_two_smoother2\")\n",
        "# plt.show()"
      ]
    }
  ],
  "metadata": {
    "colab": {
      "provenance": [],
      "authorship_tag": "ABX9TyOZMEEptq5vwik4ZNUdodAj",
      "include_colab_link": true
    },
    "kernelspec": {
      "display_name": "Python 3",
      "name": "python3"
    },
    "language_info": {
      "name": "python"
    }
  },
  "nbformat": 4,
  "nbformat_minor": 0
}